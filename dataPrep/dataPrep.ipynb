{
 "cells": [
  {
   "cell_type": "code",
   "execution_count": 1,
   "metadata": {},
   "outputs": [],
   "source": [
    "import pandas as pd\n",
    "import numpy as np\n",
    "import os, sys\n",
    "from datetime import datetime"
   ]
  },
  {
   "cell_type": "code",
   "execution_count": null,
   "metadata": {
    "scrolled": true
   },
   "outputs": [],
   "source": [
    "# Read each 1 million csv file and extract columns\n",
    "## 00\n",
    "tweets_00 = pd.DataFrame()\n",
    "\n",
    "for i in range(1,10):\n",
    "        rawData = pd.read_csv('../00/tweets_00_0'+str(i)+'.csv', low_memory=False)\n",
    "        req_cols = rawData[['coordinates', 'id', 'hashtags', 'place', 'text', 'user_location']]\n",
    "        tweets_00 = tweets_00.append(req_cols)\n",
    "        print(\"Read tweets_00_0%d\" % i)\n",
    "        \n",
    "for i in range(10,11):\n",
    "        rawData = pd.read_csv('../00/tweets_00_'+str(i)+'.csv', low_memory=False)\n",
    "        req_cols = rawData[['coordinates', 'id', 'hashtags', 'place', 'text', 'user_location']]\n",
    "        tweets_00 = tweets_00.append(req_cols)\n",
    "        print(\"Read tweets_00_%d\" % i)"
   ]
  },
  {
   "cell_type": "code",
   "execution_count": null,
   "metadata": {},
   "outputs": [],
   "source": [
    "# Write to CSV \n",
    "tweets_00.to_csv('tweets_00.csv')"
   ]
  },
  {
   "cell_type": "code",
   "execution_count": null,
   "metadata": {},
   "outputs": [],
   "source": [
    "## 01\n",
    "tweets_01 = pd.DataFrame()\n",
    "\n",
    "for i in range(1,3):\n",
    "        rawData = pd.read_csv('../01/tweets_01_01-'+str(i)+'.csv', low_memory=False)\n",
    "        req_cols = rawData[['coordinates', 'id', 'hashtags', 'place', 'text', 'user_location']]\n",
    "        tweets_01 = tweets_01.append(req_cols)\n",
    "        print(\"Read tweets_01_01-%d\" % i)\n",
    "\n",
    "for i in range(2,10):\n",
    "        rawData = pd.read_csv('../01/tweets_01_0'+str(i)+'.csv', low_memory=False)\n",
    "        req_cols = rawData[['coordinates', 'id', 'hashtags', 'place', 'text', 'user_location']]\n",
    "        tweets_01 = tweets_01.append(req_cols)\n",
    "        print(\"Read tweets_01_0%d\" % i)\n",
    "        \n",
    "for i in range(10,11):\n",
    "        rawData = pd.read_csv('../01/tweets_01_'+str(i)+'.csv', low_memory=False)\n",
    "        req_cols = rawData[['coordinates', 'id', 'hashtags', 'place', 'text', 'user_location']]\n",
    "        tweets_01 = tweets_01.append(req_cols)\n",
    "        print(\"Read tweets_01_%d\" % i)"
   ]
  },
  {
   "cell_type": "code",
   "execution_count": null,
   "metadata": {},
   "outputs": [],
   "source": [
    "# Write to CSV \n",
    "tweets_01.to_csv('tweets_01.csv')"
   ]
  },
  {
   "cell_type": "code",
   "execution_count": 2,
   "metadata": {},
   "outputs": [
    {
     "name": "stdout",
     "output_type": "stream",
     "text": [
      "Read tweets_02_01\n",
      "Read tweets_02_02\n",
      "Read tweets_02_03\n",
      "Read tweets_02_04\n",
      "Read tweets_02_05\n",
      "Read tweets_02_06\n",
      "Read tweets_02_07\n",
      "Read tweets_02_08\n",
      "Read tweets_02_09\n",
      "Read tweets_02_10\n"
     ]
    }
   ],
   "source": [
    "## 02\n",
    "tweets_02 = pd.DataFrame()\n",
    "\n",
    "for i in range(1,10):\n",
    "        rawData = pd.read_csv('../02/tweets_02_0'+str(i)+'.csv', low_memory=False)\n",
    "        req_cols = rawData[['coordinates', 'id', 'hashtags', 'place', 'text', 'user_location']]\n",
    "        tweets_02 = tweets_02.append(req_cols)\n",
    "        print(\"Read tweets_02_0%d\" % i)\n",
    "        \n",
    "for i in range(10,11):\n",
    "        rawData = pd.read_csv('../02/tweets_02_'+str(i)+'.csv', low_memory=False)\n",
    "        req_cols = rawData[['coordinates', 'id', 'hashtags', 'place', 'text', 'user_location']]\n",
    "        tweets_02 = tweets_02.append(req_cols)\n",
    "        print(\"Read tweets_02_%d\" % i)"
   ]
  },
  {
   "cell_type": "code",
   "execution_count": 3,
   "metadata": {},
   "outputs": [],
   "source": [
    "# Write to CSV \n",
    "tweets_02.to_csv('tweets_02.csv')"
   ]
  },
  {
   "cell_type": "code",
   "execution_count": null,
   "metadata": {},
   "outputs": [],
   "source": []
  }
 ],
 "metadata": {
  "kernelspec": {
   "display_name": "Python 3",
   "language": "python",
   "name": "python3"
  },
  "language_info": {
   "codemirror_mode": {
    "name": "ipython",
    "version": 3
   },
   "file_extension": ".py",
   "mimetype": "text/x-python",
   "name": "python",
   "nbconvert_exporter": "python",
   "pygments_lexer": "ipython3",
   "version": "3.7.6"
  }
 },
 "nbformat": 4,
 "nbformat_minor": 4
}
