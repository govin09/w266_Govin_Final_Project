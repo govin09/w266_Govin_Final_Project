{
 "cells": [
  {
   "cell_type": "code",
   "execution_count": 1,
   "metadata": {},
   "outputs": [],
   "source": [
    "import pandas as pd\n",
    "import numpy as np"
   ]
  },
  {
   "cell_type": "code",
   "execution_count": 2,
   "metadata": {},
   "outputs": [],
   "source": [
    "df = pd.read_pickle('data/label_renamed.pkl')"
   ]
  },
  {
   "cell_type": "code",
   "execution_count": 3,
   "metadata": {},
   "outputs": [
    {
     "data": {
      "text/plain": [
       "11"
      ]
     },
     "execution_count": 3,
     "metadata": {},
     "output_type": "execute_result"
    }
   ],
   "source": [
    "df['Dominant_Topic'].nunique()"
   ]
  },
  {
   "cell_type": "code",
   "execution_count": 4,
   "metadata": {},
   "outputs": [
    {
     "data": {
      "text/html": [
       "<div>\n",
       "<style scoped>\n",
       "    .dataframe tbody tr th:only-of-type {\n",
       "        vertical-align: middle;\n",
       "    }\n",
       "\n",
       "    .dataframe tbody tr th {\n",
       "        vertical-align: top;\n",
       "    }\n",
       "\n",
       "    .dataframe thead th {\n",
       "        text-align: right;\n",
       "    }\n",
       "</style>\n",
       "<table border=\"1\" class=\"dataframe\">\n",
       "  <thead>\n",
       "    <tr style=\"text-align: right;\">\n",
       "      <th></th>\n",
       "      <th>Document_No</th>\n",
       "      <th>Dominant_Topic</th>\n",
       "      <th>Topic_Perc_Contrib</th>\n",
       "      <th>Keywords</th>\n",
       "      <th>Text</th>\n",
       "      <th>hashtags</th>\n",
       "    </tr>\n",
       "  </thead>\n",
       "  <tbody>\n",
       "    <tr>\n",
       "      <th>0</th>\n",
       "      <td>0</td>\n",
       "      <td>Destruction/Consequences</td>\n",
       "      <td>0.2297</td>\n",
       "      <td>global, warming, park, stop, joshua, admin, na...</td>\n",
       "      <td>[global, wine, production, reach, new, low, ch...</td>\n",
       "      <td>climatechange wine plastics</td>\n",
       "    </tr>\n",
       "    <tr>\n",
       "      <th>1</th>\n",
       "      <td>1</td>\n",
       "      <td>News/Media</td>\n",
       "      <td>0.2824</td>\n",
       "      <td>threat, news, happening, temperature, day, fac...</td>\n",
       "      <td>[im, dismissing, crazy, conspiracy, im, dismis...</td>\n",
       "      <td>NaN</td>\n",
       "    </tr>\n",
       "    <tr>\n",
       "      <th>2</th>\n",
       "      <td>2</td>\n",
       "      <td>Belief/Sentiment</td>\n",
       "      <td>0.4131</td>\n",
       "      <td>world, trump, head, president, study, way, sup...</td>\n",
       "      <td>[let, turn, thing, around]</td>\n",
       "      <td>ProtectWhatYouLove ActOnClimate Sustainability...</td>\n",
       "    </tr>\n",
       "    <tr>\n",
       "      <th>3</th>\n",
       "      <td>3</td>\n",
       "      <td>Arctic/Icecap</td>\n",
       "      <td>0.5074</td>\n",
       "      <td>it, time, year, arctic, planet, weather, probl...</td>\n",
       "      <td>[new, approach, globalwarming, projection, reg...</td>\n",
       "      <td>NaN</td>\n",
       "    </tr>\n",
       "    <tr>\n",
       "      <th>4</th>\n",
       "      <td>4</td>\n",
       "      <td>ClimateChangeIsReal/FightClimateChange</td>\n",
       "      <td>0.7851</td>\n",
       "      <td>climate, change, zinke, real, human, talk, wor...</td>\n",
       "      <td>[child, estimated, bear, burden, disease, rela...</td>\n",
       "      <td>NaN</td>\n",
       "    </tr>\n",
       "    <tr>\n",
       "      <th>...</th>\n",
       "      <td>...</td>\n",
       "      <td>...</td>\n",
       "      <td>...</td>\n",
       "      <td>...</td>\n",
       "      <td>...</td>\n",
       "      <td>...</td>\n",
       "    </tr>\n",
       "    <tr>\n",
       "      <th>2999958</th>\n",
       "      <td>2999958</td>\n",
       "      <td>Arctic/Icecap</td>\n",
       "      <td>0.2953</td>\n",
       "      <td>it, time, year, arctic, planet, weather, probl...</td>\n",
       "      <td>[thank, important, thread, major, danger, planet]</td>\n",
       "      <td>ClimateChange</td>\n",
       "    </tr>\n",
       "    <tr>\n",
       "      <th>2999966</th>\n",
       "      <td>2999966</td>\n",
       "      <td>Belief/Sentiment</td>\n",
       "      <td>0.2710</td>\n",
       "      <td>world, trump, head, president, study, way, sup...</td>\n",
       "      <td>[decision, unilaterally, dismiss, agreement, s...</td>\n",
       "      <td>NaN</td>\n",
       "    </tr>\n",
       "    <tr>\n",
       "      <th>2999975</th>\n",
       "      <td>2999975</td>\n",
       "      <td>Action/Efforts/Awareness</td>\n",
       "      <td>0.0667</td>\n",
       "      <td>amp, action, leader, tweet, thanks, away, summ...</td>\n",
       "      <td>[sarah, sander]</td>\n",
       "      <td>ALSenate RoyMoore FollowTheWhiteRabbit QAnon U...</td>\n",
       "    </tr>\n",
       "    <tr>\n",
       "      <th>2999981</th>\n",
       "      <td>2999981</td>\n",
       "      <td>Belief/Sentiment</td>\n",
       "      <td>0.2273</td>\n",
       "      <td>dont, good, like, think, people, want, know, l...</td>\n",
       "      <td>[let, moment, realize, people, denying, climat...</td>\n",
       "      <td>NaN</td>\n",
       "    </tr>\n",
       "    <tr>\n",
       "      <th>2999985</th>\n",
       "      <td>2999985</td>\n",
       "      <td>ClimateChangeIsReal/FightClimateChange</td>\n",
       "      <td>0.6069</td>\n",
       "      <td>climate, change, zinke, real, human, talk, wor...</td>\n",
       "      <td>[m, scared, climate, change, ai, im, terrified...</td>\n",
       "      <td>NaN</td>\n",
       "    </tr>\n",
       "  </tbody>\n",
       "</table>\n",
       "<p>799038 rows × 6 columns</p>\n",
       "</div>"
      ],
      "text/plain": [
       "         Document_No                          Dominant_Topic  \\\n",
       "0                  0                Destruction/Consequences   \n",
       "1                  1                              News/Media   \n",
       "2                  2                        Belief/Sentiment   \n",
       "3                  3                           Arctic/Icecap   \n",
       "4                  4  ClimateChangeIsReal/FightClimateChange   \n",
       "...              ...                                     ...   \n",
       "2999958      2999958                           Arctic/Icecap   \n",
       "2999966      2999966                        Belief/Sentiment   \n",
       "2999975      2999975                Action/Efforts/Awareness   \n",
       "2999981      2999981                        Belief/Sentiment   \n",
       "2999985      2999985  ClimateChangeIsReal/FightClimateChange   \n",
       "\n",
       "         Topic_Perc_Contrib  \\\n",
       "0                    0.2297   \n",
       "1                    0.2824   \n",
       "2                    0.4131   \n",
       "3                    0.5074   \n",
       "4                    0.7851   \n",
       "...                     ...   \n",
       "2999958              0.2953   \n",
       "2999966              0.2710   \n",
       "2999975              0.0667   \n",
       "2999981              0.2273   \n",
       "2999985              0.6069   \n",
       "\n",
       "                                                  Keywords  \\\n",
       "0        global, warming, park, stop, joshua, admin, na...   \n",
       "1        threat, news, happening, temperature, day, fac...   \n",
       "2        world, trump, head, president, study, way, sup...   \n",
       "3        it, time, year, arctic, planet, weather, probl...   \n",
       "4        climate, change, zinke, real, human, talk, wor...   \n",
       "...                                                    ...   \n",
       "2999958  it, time, year, arctic, planet, weather, probl...   \n",
       "2999966  world, trump, head, president, study, way, sup...   \n",
       "2999975  amp, action, leader, tweet, thanks, away, summ...   \n",
       "2999981  dont, good, like, think, people, want, know, l...   \n",
       "2999985  climate, change, zinke, real, human, talk, wor...   \n",
       "\n",
       "                                                      Text  \\\n",
       "0        [global, wine, production, reach, new, low, ch...   \n",
       "1        [im, dismissing, crazy, conspiracy, im, dismis...   \n",
       "2                               [let, turn, thing, around]   \n",
       "3        [new, approach, globalwarming, projection, reg...   \n",
       "4        [child, estimated, bear, burden, disease, rela...   \n",
       "...                                                    ...   \n",
       "2999958  [thank, important, thread, major, danger, planet]   \n",
       "2999966  [decision, unilaterally, dismiss, agreement, s...   \n",
       "2999975                                    [sarah, sander]   \n",
       "2999981  [let, moment, realize, people, denying, climat...   \n",
       "2999985  [m, scared, climate, change, ai, im, terrified...   \n",
       "\n",
       "                                                  hashtags  \n",
       "0                              climatechange wine plastics  \n",
       "1                                                      NaN  \n",
       "2        ProtectWhatYouLove ActOnClimate Sustainability...  \n",
       "3                                                      NaN  \n",
       "4                                                      NaN  \n",
       "...                                                    ...  \n",
       "2999958                                      ClimateChange  \n",
       "2999966                                                NaN  \n",
       "2999975  ALSenate RoyMoore FollowTheWhiteRabbit QAnon U...  \n",
       "2999981                                                NaN  \n",
       "2999985                                                NaN  \n",
       "\n",
       "[799038 rows x 6 columns]"
      ]
     },
     "execution_count": 4,
     "metadata": {},
     "output_type": "execute_result"
    }
   ],
   "source": [
    "df"
   ]
  },
  {
   "cell_type": "code",
   "execution_count": 5,
   "metadata": {},
   "outputs": [],
   "source": [
    "# Fix Text column (from list to string)\n",
    "df['TextString'] = [' '.join(map(str, l)) for l in df['Text']]"
   ]
  },
  {
   "cell_type": "code",
   "execution_count": 6,
   "metadata": {},
   "outputs": [
    {
     "data": {
      "text/plain": [
       "(799038, 252314)"
      ]
     },
     "execution_count": 6,
     "metadata": {},
     "output_type": "execute_result"
    }
   ],
   "source": [
    "from sklearn.feature_extraction.text import TfidfVectorizer\n",
    "tfidf = TfidfVectorizer(sublinear_tf=True, min_df=5, norm='l2', encoding='latin-1', ngram_range=(1, 2), stop_words='english')\n",
    "features = tfidf.fit_transform(df['TextString'])\n",
    "labels = df.Dominant_Topic\n",
    "features.shape"
   ]
  },
  {
   "cell_type": "code",
   "execution_count": 7,
   "metadata": {},
   "outputs": [],
   "source": [
    "from sklearn.model_selection import train_test_split\n",
    "from sklearn.feature_extraction.text import CountVectorizer\n",
    "from sklearn.feature_extraction.text import TfidfTransformer\n",
    "from sklearn.naive_bayes import MultinomialNB\n",
    "X_train, X_test, y_train, y_test = train_test_split(df['TextString'], df['Dominant_Topic'], random_state = 0)\n",
    "count_vect = CountVectorizer()\n",
    "X_train_counts = count_vect.fit_transform(X_train)\n",
    "tfidf_transformer = TfidfTransformer()\n",
    "X_train_tfidf = tfidf_transformer.fit_transform(X_train_counts)\n",
    "clf = MultinomialNB().fit(X_train_tfidf, y_train)"
   ]
  },
  {
   "cell_type": "code",
   "execution_count": 8,
   "metadata": {},
   "outputs": [
    {
     "data": {
      "image/png": "[encoded data removed]",
      "text/plain": [
       "<Figure size 432x288 with 1 Axes>"
      ]
     },
     "metadata": {
      "needs_background": "light"
     },
     "output_type": "display_data"
    }
   ],
   "source": [
    "from sklearn.linear_model import LogisticRegression\n",
    "from sklearn.ensemble import RandomForestClassifier\n",
    "from sklearn.svm import LinearSVC\n",
    "from sklearn.model_selection import cross_val_score\n",
    "import matplotlib.pyplot as plt\n",
    "\n",
    "models = [\n",
    "    RandomForestClassifier(n_estimators=200, max_depth=10, random_state=0),\n",
    "    LinearSVC(),\n",
    "    MultinomialNB(),\n",
    "    LogisticRegression(max_iter=1000, random_state=0),\n",
    "]\n",
    "CV = 5\n",
    "cv_df = pd.DataFrame(index=range(CV * len(models)))\n",
    "entries = []\n",
    "for model in models:\n",
    "  model_name = model.__class__.__name__\n",
    "  accuracies = cross_val_score(model, features, labels, scoring='accuracy', cv=CV)\n",
    "  for fold_idx, accuracy in enumerate(accuracies):\n",
    "    entries.append((model_name, fold_idx, accuracy))\n",
    "cv_df = pd.DataFrame(entries, columns=['model_name', 'fold_idx', 'accuracy'])\n",
    "import seaborn as sns\n",
    "sns.boxplot(x='model_name', y='accuracy', data=cv_df)\n",
    "sns.stripplot(x='model_name', y='accuracy', data=cv_df, \n",
    "              size=8, jitter=True, edgecolor=\"gray\", linewidth=2)\n",
    "plt.show()"
   ]
  },
  {
   "cell_type": "code",
   "execution_count": 9,
   "metadata": {},
   "outputs": [
    {
     "data": {
      "text/plain": [
       "model_name\n",
       "LinearSVC                 0.745236\n",
       "LogisticRegression        0.795301\n",
       "MultinomialNB             0.519288\n",
       "RandomForestClassifier    0.259242\n",
       "Name: accuracy, dtype: float64"
      ]
     },
     "execution_count": 9,
     "metadata": {},
     "output_type": "execute_result"
    }
   ],
   "source": [
    "#Accuracy reportfor each model\n",
    "cv_df.groupby('model_name').accuracy.mean()"
   ]
  }
 ],
 "metadata": {
  "kernelspec": {
   "display_name": "Python 3",
   "language": "python",
   "name": "python3"
  },
  "language_info": {
   "codemirror_mode": {
    "name": "ipython",
    "version": 3
   },
   "file_extension": ".py",
   "mimetype": "text/x-python",
   "name": "python",
   "nbconvert_exporter": "python",
   "pygments_lexer": "ipython3",
   "version": "3.8.3"
  }
 },
 "nbformat": 4,
 "nbformat_minor": 2
}
