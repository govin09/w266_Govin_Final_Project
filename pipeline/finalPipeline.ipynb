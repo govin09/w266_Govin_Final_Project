{
 "cells": [
  {
   "cell_type": "code",
   "execution_count": 1,
   "metadata": {},
   "outputs": [],
   "source": [
    "# Import Libraries\n",
    "import pandas as pd\n",
    "import numpy as np\n",
    "from sklearn.feature_extraction.text import CountVectorizer\n",
    "from sklearn.model_selection import train_test_split\n",
    "from sklearn.linear_model import LogisticRegression\n",
    "from google.cloud import language_v1\n",
    "from google.cloud.language_v1 import enums\n",
    "import pandas as pd"
   ]
  },
  {
   "cell_type": "code",
   "execution_count": 40,
   "metadata": {},
   "outputs": [],
   "source": [
    "pd.set_option(\"display.max_colwidth\", None)"
   ]
  },
  {
   "cell_type": "code",
   "execution_count": 8,
   "metadata": {
    "scrolled": true
   },
   "outputs": [
    {
     "data": {
      "text/plain": [
       "LogisticRegression(C=0.3, max_iter=1000, solver='liblinear')"
      ]
     },
     "execution_count": 8,
     "metadata": {},
     "output_type": "execute_result"
    }
   ],
   "source": [
    "#####\n",
    "## Train Model\n",
    "#####\n",
    "\n",
    "# Read file\n",
    "df = pd.read_pickle('../data/label_renamed.pkl')\n",
    "\n",
    "# Fix Text column (from list to string)\n",
    "df['TextString'] = [' '.join(map(str, l)) for l in df['Text']]\n",
    "\n",
    "# from sklearn.feature_extraction.text import TfidfTransformer\n",
    "X_train, X_test, y_train, y_test = train_test_split(df['TextString'], df['Dominant_Topic'], random_state = 0)\n",
    "\n",
    "# Train\n",
    "vectorizer = CountVectorizer()\n",
    "vtrain = vectorizer.fit_transform(X_train)\n",
    "lrmodel = LogisticRegression(C=0.3, penalty='l2', multi_class='auto', solver='liblinear', max_iter=1000)\n",
    "lrmodel.fit(vtrain, y_train)"
   ]
  },
  {
   "cell_type": "code",
   "execution_count": 16,
   "metadata": {},
   "outputs": [],
   "source": [
    "#####\n",
    "## Choose tweets for testing\n",
    "#####\n",
    "df = pd.read_csv('sentimentTesting.csv')"
   ]
  },
  {
   "cell_type": "code",
   "execution_count": 20,
   "metadata": {},
   "outputs": [
    {
     "data": {
      "text/plain": [
       "'RT @JesseFernandez: Scientists: If you consider all the data, clearly humans are causing climate change.\\n\\nGOP: But if you don’t, we’re not…'"
      ]
     },
     "execution_count": 20,
     "metadata": {},
     "output_type": "execute_result"
    }
   ],
   "source": [
    "df.iloc[30]['text']"
   ]
  },
  {
   "cell_type": "code",
   "execution_count": 9,
   "metadata": {},
   "outputs": [],
   "source": [
    "def sample_analyze_sentiment(text_content):\n",
    "    \"\"\"\n",
    "    Analyzing Sentiment in a String\n",
    "\n",
    "    Args:\n",
    "      text_content The text content to analyze\n",
    "    \"\"\"\n",
    "\n",
    "    client = language_v1.LanguageServiceClient()\n",
    "    type_ = enums.Document.Type.PLAIN_TEXT\n",
    "    language = \"en\"\n",
    "    sentence = {\"content\": text_content, \"type\": type_, \"language\": language}\n",
    "    encoding_type = enums.EncodingType.UTF8\n",
    "\n",
    "    response = client.analyze_sentiment(sentence, encoding_type=encoding_type)\n",
    "    #print(type(response))\n",
    "    return response"
   ]
  },
  {
   "cell_type": "code",
   "execution_count": 30,
   "metadata": {},
   "outputs": [],
   "source": [
    "# Define the project\n",
    "def project(df,i):\n",
    "    # Find Topic\n",
    "    v_y = vectorizer.transform([df.iloc[i]['text']])\n",
    "    topic = lrmodel.predict(v_y)\n",
    "    \n",
    "    # Find Sentiment\n",
    "    response = sample_analyze_sentiment(df.iloc[i]['text'])\n",
    "    score = round(response.document_sentiment.score,3)\n",
    "    magnitude = round(response.document_sentiment.magnitude,3)\n",
    "    \n",
    "    print(\"Text from tweet: \", df.iloc[i]['text'])\n",
    "    print(\"Topic: \", topic)\n",
    "    print(\"Score: \", score)\n",
    "    print(\"Magnitude: \", magnitude)\n",
    "    print(\"Region: \", df.iloc[i]['user_location'])"
   ]
  },
  {
   "cell_type": "code",
   "execution_count": 46,
   "metadata": {},
   "outputs": [
    {
     "name": "stdout",
     "output_type": "stream",
     "text": [
      "Text from tweet:  Anti-pipeline activist found guilty after being barred from mentioning climate change https://t.co/GdpivVFRBn via @HuffPostGreen\n",
      "Topic:  ['Action/Efforts/Awareness']\n",
      "Score:  -0.4\n",
      "Magnitude:  0.4\n",
      "Region:  San Diego, California USA\n"
     ]
    }
   ],
   "source": [
    "project(df,7)"
   ]
  },
  {
   "cell_type": "code",
   "execution_count": null,
   "metadata": {},
   "outputs": [],
   "source": []
  }
 ],
 "metadata": {
  "kernelspec": {
   "display_name": "Python 3",
   "language": "python",
   "name": "python3"
  },
  "language_info": {
   "codemirror_mode": {
    "name": "ipython",
    "version": 3
   },
   "file_extension": ".py",
   "mimetype": "text/x-python",
   "name": "python",
   "nbconvert_exporter": "python",
   "pygments_lexer": "ipython3",
   "version": "3.8.3"
  }
 },
 "nbformat": 4,
 "nbformat_minor": 2
}
